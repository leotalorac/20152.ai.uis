{
 "cells": [
  {
   "cell_type": "markdown",
   "metadata": {},
   "source": [
    "##  Ejercicio 1\n",
    "\n",
    "Completa la función siguiente para que cargue el dataset mnist desde el fichero `data/mnist1.5k.csv` y extraiga una matriz de 784 columnas con las imágenes MNIST vectorizadas y un vector con las clases a las que pertenece cada imagen.\n"
   ]
  },
  {
   "cell_type": "code",
   "execution_count": 16,
   "metadata": {
    "collapsed": false
   },
   "outputs": [],
   "source": [
    "import numpy as np\n",
    "def load_mnist():\n",
    "    #\n",
    "    # TU CODIGO AQUI\n",
    "    #\n",
    "    return d,c"
   ]
  },
  {
   "cell_type": "markdown",
   "metadata": {},
   "source": [
    "Mostramos aleatoriamente algunos de los dígitos. Ejecuta la siguiente celda para ver el resultado de tu función"
   ]
  },
  {
   "cell_type": "code",
   "execution_count": null,
   "metadata": {
    "collapsed": false,
    "scrolled": true
   },
   "outputs": [],
   "source": [
    "d,c = load_mnist()\n",
    "\n",
    "import matplotlib.pyplot as plt\n",
    "%matplotlib inline\n",
    "%run -i code/show_mnist.py\n",
    "show_sample_mnist(d,c)"
   ]
  },
  {
   "cell_type": "markdown",
   "metadata": {},
   "source": [
    "##  Ejercicio 2\n",
    "\n",
    "Completa la función siguiente para que, dado una matriz con las imágenes MNIST vectorizadas y un filtro, devuelva una nueva matriz, del mismo tamaño que la anterior, pero a la que a las imágenes vectorizadas se les ha aplicado el filtro.\n"
   ]
  },
  {
   "cell_type": "code",
   "execution_count": null,
   "metadata": {
    "collapsed": false
   },
   "outputs": [],
   "source": [
    "from scipy.signal import convolve2d\n",
    "\n",
    "def convolve_mnist(d,f):\n",
    "    # --------------\n",
    "    # TU CODIGO AQUI\n",
    "    r = \n",
    "    # ------------\n",
    "    \n",
    "    return r"
   ]
  },
  {
   "cell_type": "markdown",
   "metadata": {},
   "source": [
    "Mostramos aleatoriamente algunos de los dígitos."
   ]
  },
  {
   "cell_type": "code",
   "execution_count": null,
   "metadata": {
    "collapsed": false
   },
   "outputs": [],
   "source": [
    "f = np.array([[-1,1]])\n",
    "dc = convolve_mnist(d,f)\n",
    "show_sample_mnist(dc,c)"
   ]
  },
  {
   "cell_type": "markdown",
   "metadata": {},
   "source": [
    "## Ejercicio 3\n",
    "\n",
    "Completa la función siguiente para que dados:\n",
    "\n",
    "- Una matriz $d$ de $m \\times n$, con $m$ datos y $n$ atributos por dato.\n",
    "- Un vector $c$ de $m$ elementos con la clase a la que pertenece cada dato de la matriz $d$.\n",
    "- Un clasificador de `sklearn`\n",
    "- Un porcentaje deseado de datos para test\n",
    "\n",
    "Haga lo siguiente:\n",
    "\n",
    "- Divida el $d$ y $c$ en dos partes para entrenamiento y test según el porcentaje deseado\n",
    "- Entrene el clasificador con los datos de train\n",
    "- Mida el desempeño con los datos de test\n",
    "- Devuelva el desempeño medido"
   ]
  },
  {
   "cell_type": "code",
   "execution_count": 58,
   "metadata": {
    "collapsed": true
   },
   "outputs": [],
   "source": [
    "from sklearn.cross_validation import train_test_split\n",
    "\n",
    "def classify(d,c, classifier, test_size=0.2):\n",
    "\n",
    "    #\n",
    "    # TU CODIGO AQUI\n",
    "    #\n",
    "    score =\n",
    "    # ----------------\n",
    "    \n",
    "    return score"
   ]
  },
  {
   "cell_type": "markdown",
   "metadata": {},
   "source": [
    "Ejecuta la siguiente para ver cómo se comporta tu función"
   ]
  },
  {
   "cell_type": "code",
   "execution_count": null,
   "metadata": {
    "collapsed": false
   },
   "outputs": [],
   "source": [
    "from sklearn.naive_bayes import GaussianNB\n",
    "d,c = load_mnist()\n",
    "classify(d,c,GaussianNB())"
   ]
  },
  {
   "cell_type": "markdown",
   "metadata": {},
   "source": [
    "## Ejercicio 4\n",
    "\n",
    "Completa la función siguiente para que llame a a función anterior el número de veces especificado por el parámetro `repeat` y devuelva la media y desviación estándar del desempeño en test.:"
   ]
  },
  {
   "cell_type": "code",
   "execution_count": 59,
   "metadata": {
    "collapsed": true
   },
   "outputs": [],
   "source": [
    "def classify_avg(d,c,classifier,repeat=10, test_size=0.2):\n",
    "    \n",
    "    #\n",
    "    # TU CODIGO AQUI\n",
    "    #\n",
    "    mean_performance = \n",
    "    std_performance  =\n",
    "    # -------------------\n",
    "    \n",
    "    return mean_performance, std_performance"
   ]
  },
  {
   "cell_type": "markdown",
   "metadata": {},
   "source": [
    "Ejecuta la siguiente para ver cómo se comporta tu función"
   ]
  },
  {
   "cell_type": "code",
   "execution_count": null,
   "metadata": {
    "collapsed": false
   },
   "outputs": [],
   "source": [
    "from sklearn.naive_bayes import GaussianNB\n",
    "classify_avg(d,c,GaussianNB())"
   ]
  },
  {
   "cell_type": "markdown",
   "metadata": {},
   "source": [
    "## Ejercicio 5\n",
    "\n",
    "Completa la función siguiente para que:\n",
    "\n",
    "- Cargue el dataset MNIST\n",
    "- Use la función del ejercicio anterior para clasificar MNIST con un GaussianNB\n",
    "- Use la función del ejercicio anterior para clasificar MNIST con un DecisionTreeClassifier\n"
   ]
  },
  {
   "cell_type": "code",
   "execution_count": 62,
   "metadata": {
    "collapsed": false
   },
   "outputs": [],
   "source": [
    "from sklearn.tree import DecisionTreeClassifier \n",
    "from sklearn.naive_bayes import GaussianNB\n",
    "\n",
    "def NBDT_MNIST():\n",
    "\n",
    "    d,c = # TU CODIGO AQUI\n",
    "    meanNB, stdNB = # TU CODIGO AQUI\n",
    "    meanDT, stdDT = # TU CODIGO AQUI\n",
    "\n",
    "    return meanNB, stdNB, meanDT, stdDT\n",
    "    "
   ]
  },
  {
   "cell_type": "markdown",
   "metadata": {},
   "source": [
    "Ejecuta la siguiente para ver cómo se comporta tu función"
   ]
  },
  {
   "cell_type": "code",
   "execution_count": null,
   "metadata": {
    "collapsed": false
   },
   "outputs": [],
   "source": [
    "meanNB, stdNB, meanDT, stdDT = NBDT_MNIST()\n",
    "print \"Gaussian      %.3f (+/- %.3f)\"%(meanNB, stdNB)\n",
    "print \"Decision Tree %.3f (+/- %.3f)\"%(meanDT, stdDT)"
   ]
  },
  {
   "cell_type": "markdown",
   "metadata": {},
   "source": [
    "## Ejercicio 6\n",
    "\n",
    "Completa la función siguiente para que:\n",
    "\n",
    "- Cargue el dataset MNIST\n",
    "- Realice la convolución de todas las imágenes con el filtro indicado\n",
    "- Use la función del ejercicio 5 para clasificar MNIST con un GaussianNB\n",
    "- Use la función del ejercicio 5 para clasificar MNIST con un DecisionTreeClassifier"
   ]
  },
  {
   "cell_type": "code",
   "execution_count": 64,
   "metadata": {
    "collapsed": false
   },
   "outputs": [],
   "source": [
    "def NBDT_MNIST_convolution1():\n",
    "\n",
    "    d,c = # TU CODIGO AQUI\n",
    "    f   = np.array([[-1,1]])\n",
    "    dc  = # TU CODIGO AQUI , resultado convolución con f\n",
    "\n",
    "    meanNB, stdNB = # TU CODIGO AQUI\n",
    "    meanDT, stdDT = # TU CODIGO AQUI\n",
    "    \n",
    "    return meanNB, stdNB, meanDT, stdDT"
   ]
  },
  {
   "cell_type": "markdown",
   "metadata": {},
   "source": [
    "Ejecuta la siguiente para ver cómo se comporta tu función"
   ]
  },
  {
   "cell_type": "code",
   "execution_count": null,
   "metadata": {
    "collapsed": false
   },
   "outputs": [],
   "source": [
    "meanNB, stdNB, meanDT, stdDT = NBDT_MNIST_convolution1()\n",
    "print \"Gaussian      %.3f (+/- %.3f)\"%(meanNB, stdNB)\n",
    "print \"Decision Tree %.3f (+/- %.3f)\"%(meanDT, stdDT)"
   ]
  },
  {
   "cell_type": "markdown",
   "metadata": {},
   "source": [
    "## Ejercicio 7\n",
    "\n",
    "Completa la función siguiente para que:\n",
    "\n",
    "- Cargue el dataset MNIST\n",
    "- Realice la convolución de todas las imágenes con un filtro de $4\\times 4$ (el parámetro de la función) con todos los elementos a 1.\n",
    "- Use la función del ejercicio 5 para clasificar MNIST con un GaussianNB\n",
    "- Use la función del ejercicio 5 para clasificar MNIST con un DecisionTreeClassifier"
   ]
  },
  {
   "cell_type": "code",
   "execution_count": 66,
   "metadata": {
    "collapsed": true
   },
   "outputs": [],
   "source": [
    "def NBDT_MNIST_convolution2():\n",
    "\n",
    "    d,c = # TU CODIGO AQUI\n",
    "    f   = # TU CODIGO AQUI, define el filtro\n",
    "    dc  = # TU CODIGO AQUI, realiza la convolución\n",
    "\n",
    "    meanNB, stdNB = # TU CODIGO AQUI\n",
    "    meanDT, stdDT = # TU CODIGO AQUI\n",
    "\n",
    "    return meanNB, stdNB, meanDT, stdDT"
   ]
  },
  {
   "cell_type": "markdown",
   "metadata": {},
   "source": [
    "Ejecuta la siguiente para ver cómo se comporta tu función"
   ]
  },
  {
   "cell_type": "code",
   "execution_count": null,
   "metadata": {
    "collapsed": false
   },
   "outputs": [],
   "source": [
    "meanNB, stdNB, meanDT, stdDT = NBDT_MNIST_convolution2()\n",
    "print \"Gaussian      %.3f (+/- %.3f)\"%(meanNB, stdNB)\n",
    "print \"Decision Tree %.3f (+/- %.3f)\"%(meanDT, stdDT)"
   ]
  },
  {
   "cell_type": "markdown",
   "metadata": {},
   "source": [
    "## Ejercicio 8\n",
    "\n",
    "Completa la función siguiente para que:\n",
    "\n",
    "- Cargue el dataset MNIST\n",
    "- Discretice las imágenes de forma que cualquier pixel con valor $\\ge 1$ quede a 1.\n",
    "- Realice la convolución de todas las imágenes con un filtro de $4 \\times 4$ con todos los elementos a 1.\n",
    "- Use la función del ejercicio 5 para clasificar MNIST con un GaussianNB\n",
    "- Use la función del ejercicio 5 para clasificar MNIST con un DecisionTreeClassifier"
   ]
  },
  {
   "cell_type": "code",
   "execution_count": 68,
   "metadata": {
    "collapsed": false
   },
   "outputs": [],
   "source": [
    "def NBDT_MNIST_convolution3():\n",
    "\n",
    "    d,c = # TU CODIGO AQUI\n",
    "    f   = # TU CODIGO AQUI, define el filtro\n",
    "    # TU CODIGO AQUI , realiza la discretización\n",
    "    dc  = # TU CODIGO AQUI, realiza la convolución\n",
    "\n",
    "    meanNB, stdNB = # TU CODIGO AQUI\n",
    "    meanDT, stdDT = # TU CODIGO AQUI\n",
    "\n",
    "    return meanNB, stdNB, meanDT, stdDT"
   ]
  },
  {
   "cell_type": "markdown",
   "metadata": {},
   "source": [
    "Ejecuta la siguiente para ver cómo se comporta tu función"
   ]
  },
  {
   "cell_type": "code",
   "execution_count": null,
   "metadata": {
    "collapsed": false
   },
   "outputs": [],
   "source": [
    "meanNB, stdNB, meanDT, stdDT = NBDT_MNIST_convolution3()\n",
    "print \"Gaussian      %.3f (+/- %.3f)\"%(meanNB, stdNB)\n",
    "print \"Decision Tree %.3f (+/- %.3f)\"%(meanDT, stdDT)"
   ]
  },
  {
   "cell_type": "markdown",
   "metadata": {},
   "source": [
    "Si visualizas una muestra de los dígitos de MNIST una vez aplicadas las tranformaciones del ejercicio anterior debe de quedar así."
   ]
  },
  {
   "cell_type": "code",
   "execution_count": 52,
   "metadata": {
    "collapsed": false
   },
   "outputs": [
    {
     "data": {
      "image/png": "[encoded data removed]",
      "text/plain": [
       "<matplotlib.figure.Figure at 0x7fe16984e190>"
      ]
     },
     "metadata": {},
     "output_type": "display_data"
    }
   ],
   "source": [
    "d,c = load_mnist()\n",
    "f   = np.ones((4,4))\n",
    "dc = np.copy(d)\n",
    "dc[dc>=1] = 1\n",
    "dc  = convolve_mnist(dc,f)\n",
    "show_sample_mnist(dc,c)"
   ]
  },
  {
   "cell_type": "code",
   "execution_count": null,
   "metadata": {
    "collapsed": true
   },
   "outputs": [],
   "source": []
  }
 ],
 "metadata": {
  "kernelspec": {
   "display_name": "Python 2",
   "language": "python",
   "name": "python2"
  },
  "language_info": {
   "codemirror_mode": {
    "name": "ipython",
    "version": 2
   },
   "file_extension": ".py",
   "mimetype": "text/x-python",
   "name": "python",
   "nbconvert_exporter": "python",
   "pygments_lexer": "ipython2",
   "version": "2.7.10"
  }
 },
 "nbformat": 4,
 "nbformat_minor": 0
}
