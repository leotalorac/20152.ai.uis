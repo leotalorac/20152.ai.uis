{
 "cells": [
  {
   "cell_type": "markdown",
   "metadata": {},
   "source": [
    "### Ejercicio 1: Define y extrae características Haar\n",
    "\n",
    "Fíjate en la definción de las características Haar 1 y 3. Define el resto según la imagen siguiente. Usamos la librería `haar` incluida en el repositorio del curso."
   ]
  },
  {
   "cell_type": "code",
   "execution_count": 3,
   "metadata": {
    "collapsed": false
   },
   "outputs": [
    {
     "data": {
      "image/png": "[encoded data removed]",
      "text/plain": [
       "<IPython.core.display.Image object>"
      ]
     },
     "execution_count": 3,
     "metadata": {
      "image/png": {
       "height": 100,
       "width": 500
      }
     },
     "output_type": "execute_result"
    }
   ],
   "source": [
    "from IPython.display import Image\n",
    "Image(filename='imgs/haar.png', width=500, height=100)"
   ]
  },
  {
   "cell_type": "markdown",
   "metadata": {},
   "source": [
    "**Ejemplo de Ejecución**\n",
    "\n",
    "$M=$\n",
    "\n",
    "    [[ 1  1  1  1  1  1  1  1  1  1]\n",
    "     [ 2  2  2  2  2  2  2  2  2  2]\n",
    "     [ 3  3  3  3  3  3  3  3  3  3]\n",
    "     [ 4  4  4  4  4  4  4  4  4  4]\n",
    "     [ 5  7  5  5  5  5  5  5  5  5]\n",
    "     [ 6  6  6  6  6  6  6  6  6  6]\n",
    "     [ 7  7  7  7  7  7  7  7  7  7]\n",
    "     [ 8  8  8  8  8  8  8  8  8  8]\n",
    "     [ 9  9  9  9  9  9  9  9  9  9]\n",
    "     [10 10 10 10 10 10 10 10 10 10]]\n",
    "     \n",
    "    > extract_haar(haar_1, M)\n",
    "    -248\n",
    "    > extract_haar(haar_2, M)\n",
    "    2\n",
    "    > extract_haar(haar_3, M)\n",
    "    108\n",
    "    > extract_haar(haar_4, M)\n",
    "    112\n",
    "    > extract_haar(haar_4, M)\n",
    "    2"
   ]
  },
  {
   "cell_type": "code",
   "execution_count": 1,
   "metadata": {
    "collapsed": false
   },
   "outputs": [],
   "source": [
    "import sys\n",
    "import numpy as np\n",
    "sys.path.append(\"code\")\n",
    "%matplotlib inline\n",
    "from haar import *\n",
    "\n",
    "haar_1 = [ {\"op\": \"add\", \"topleft_row_rel\": 0.0, \"topleft_col_rel\": 0.0, \"height_rel\": 0.5, \"width_rel\": 1.0},\n",
    "           {\"op\": \"sub\", \"topleft_row_rel\": 0.5, \"topleft_col_rel\": 0.0, \"height_rel\": 0.5, \"width_rel\": 1.0}]\n",
    "\n",
    "# TU CODIGO AQUI\n",
    "haar_2 = []\n",
    "\n",
    "haar_3 = [ {\"op\": \"add\", \"topleft_row_rel\": 0.0,   \"topleft_col_rel\": 0.0, \"height_rel\": 0.3, \"width_rel\": 1.0},\n",
    "           {\"op\": \"add\", \"topleft_row_rel\": 0.7,   \"topleft_col_rel\": 0.0, \"height_rel\": 0.3, \"width_rel\": 1.0},\n",
    "           {\"op\": \"sub\", \"topleft_row_rel\": 0.3,   \"topleft_col_rel\": 0.0, \"height_rel\": 0.4, \"width_rel\": 1.0}]\n",
    "\n",
    "# TU CODIGO AQUI\n",
    "haar_4 = []\n",
    "\n",
    "# TU CODIGO AQUI\n",
    "haar_5 = []\n",
    "\n",
    "haar_features = [haar_1, haar_2, haar_3, haar_4, haar_5 ]\n"
   ]
  },
  {
   "cell_type": "markdown",
   "metadata": {},
   "source": [
    "Comprueba tu código"
   ]
  },
  {
   "cell_type": "code",
   "execution_count": 2,
   "metadata": {
    "collapsed": false
   },
   "outputs": [
    {
     "name": "stdout",
     "output_type": "stream",
     "text": [
      "[[ 1  1  1  1  1  1  1  1  1  1]\n",
      " [ 2  2  2  2  2  2  2  2  2  2]\n",
      " [ 3  3  3  3  3  3  3  3  3  3]\n",
      " [ 4  4  4  4  4  4  4  4  4  4]\n",
      " [ 5  7  5  5  5  5  5  5  5  5]\n",
      " [ 6  6  6  6  6  6  6  6  6  6]\n",
      " [ 7  7  7  7  7  7  7  7  7  7]\n",
      " [ 8  8  8  8  8  8  8  8  8  8]\n",
      " [ 9  9  9  9  9  9  9  9  9  9]\n",
      " [10 10 10 10 10 10 10 10 10 10]]\n",
      "-248\n",
      "0\n",
      "108\n",
      "0\n",
      "0\n"
     ]
    },
    {
     "data": {
      "image/png": "[encoded data removed]",
      "text/plain": [
       "<matplotlib.figure.Figure at 0x104473a10>"
      ]
     },
     "metadata": {},
     "output_type": "display_data"
    }
   ],
   "source": [
    "show_haar_features(haar_features)\n",
    "\n",
    "M = create_sample_matrix(10)\n",
    "print M\n",
    "print extract_haar(haar_1, M)\n",
    "print extract_haar(haar_2, M)\n",
    "print extract_haar(haar_3, M)\n",
    "print extract_haar(haar_4, M)\n",
    "print extract_haar(haar_5, M)"
   ]
  },
  {
   "cell_type": "markdown",
   "metadata": {},
   "source": [
    "<font style=\"color: red\">comprueba tu progreso hasta ahora</font>"
   ]
  },
  {
   "cell_type": "code",
   "execution_count": null,
   "metadata": {
    "collapsed": false
   },
   "outputs": [],
   "source": [
    "%run -i code/p_02B_eval\n"
   ]
  },
  {
   "cell_type": "markdown",
   "metadata": {},
   "source": [
    "### Ejercicio 2:  Usa la imagen integral para calcular la suma de una submatriz\n",
    "\n",
    "Cuando queremos obtener muchas características Haar de una misma imagen, calcular la suma de los elementos de distintas submatrices puede ser computacionalmente muy pesado. Para reducir el tiempo de cómputo en estos casos, calculamos previamente la _matriz integral_ de una imagen, y luego realizamos los cálculos de las sumas de las submatrices sobre ella, en vez de usar la imagen original.\n",
    "\n",
    "Dada una matriz $M \\in \\mathbb{R}^{m\\times n}$, denotamos su matriz integral por $M_I \\in \\mathbb{R}^{m\\times n}$. El elemento de la columna $c$ y fila $r$ de $M_I$, con $0\\leq r <m$ y $0\\leq c < n$ viene dado por:\n",
    "\n",
    "$$m_I[r,c] = \\sum_{i=0}^r \\sum_{j=0}^cm[i,j]$$\n",
    "\n",
    "donde $m[i,j]$ es el elemento de la fila $i$ y de la columna $j$ de la matriz $M$. Es decir $m_I[r,c]$ es la suma de los elementos de la sub-matriz de $M$ que está entre las posiciones $(0,0)$ y $(r,c)$.\n",
    "\n",
    "para cualquier matriz puedes usar la función `get_integral(M)` de la librería `haar` del curso para obtener su matriz integral correspondiente"
   ]
  },
  {
   "cell_type": "code",
   "execution_count": null,
   "metadata": {
    "collapsed": false
   },
   "outputs": [],
   "source": [
    "import numpy as np\n",
    "M = np.array([[1,2,3],[3,4,5],[7,8,9]])\n",
    "print M\n",
    "print get_integral(M)"
   ]
  },
  {
   "cell_type": "markdown",
   "metadata": {},
   "source": [
    "La matriz integral nos sirve para calcular la suma de los elementos de una región cualquiera de la matriz original  tienen su origen en la esquina superior izquierda de dicha matriz original. Si quisiéramos considerar una región arbitraria (por ejemplo $S$ en la figura siguiente), podemos usar igualmente la matriz integral usando el hecho de que:\n",
    "\n",
    "$$ sum(S) = sum(C)+sum(A)-sum(B)-sum(D)$$\n",
    "\n",
    "en donde las matrices $A$, $B$, $C$ and $D$ tienen su origen en la esquina superior izquierda, como se ilustra en la figura. Por tanto:\n",
    "\n",
    "$$ sum(S) = m_I(c) + m_I(a) - m_I(b) - m_I(d)$$\n",
    "\n",
    "y, si previamente tenemos $M_I$ con tres operaciones tenemos la suma de los elementos de cualquier región. Si tenemos que calcular muchas regiones, entonces al calcular previamente $M_I$, usando la forma anterior tendremos un proceso mucho menos pesado computacionalmente.\n",
    "\n",
    "Observa igualmente la relación entre las coordenadas de los distintos puntos, por ejemplo, el punto $a=(a_r, a_c)$ y $t=(t_r, r_c)$ en donde, $a_r = t_r - 1$ y $a_c=t_c-1$. En cambio, $d_r=c_r$ y $d_c=t_c-1$\n",
    "\n",
    "<img src=\"imgs/integral.png\"/>"
   ]
  },
  {
   "cell_type": "markdown",
   "metadata": {},
   "source": [
    "Completa la función `get_submatrix_sum_using_integral` para que, dada una matriz integral, devuelva la suma de la submatriz indicada por `topleft_row`, `topleft_col`, `height`, `width`. Ignora el argumento `image` que lo incluimos por compatibilidad con el resto del código.\n",
    "\n",
    "**Ejecución de ejemplo**\n",
    "\n",
    "Matriz original `M`\n",
    "\n",
    "\n",
    "    [[ 1  1  1  1  1  1  1  1  1  1]\n",
    "     [ 2  2  2  2  2  2  2  2  2  2]\n",
    "     [ 3  3  3  3  3  3  3  3  3  3]\n",
    "     [ 4  4  4  4  4  4  4  4  4  4]\n",
    "     [ 5  7  5  5  5  5  5  5  5  5]\n",
    "     [ 6  6  6  6  6  6  6  6  6  6]\n",
    "     [ 7  7  7  7  7  7  7  7  7  7]\n",
    "     [ 8  8  8  8  8  8  8  8  8  8]\n",
    "     [ 9  9  9  9  9  9  9  9  9  9]\n",
    "     [10 10 10 10 10 10 10 10 10 10]]\n",
    "\n",
    "Matriz integral `Mi` \n",
    "\n",
    "\n",
    "    [[  1   2   3   4   5   6   7   8   9  10]\n",
    "     [  3   6   9  12  15  18  21  24  27  30]\n",
    "     [  6  12  18  24  30  36  42  48  54  60]\n",
    "     [ 10  20  30  40  50  60  70  80  90 100]\n",
    "     [ 15  32  47  62  77  92 107 122 137 152]\n",
    "     [ 21  44  65  86 107 128 149 170 191 212]\n",
    "     [ 28  58  86 114 142 170 198 226 254 282]\n",
    "     [ 36  74 110 146 182 218 254 290 326 362]\n",
    "     [ 45  92 137 182 227 272 317 362 407 452]\n",
    "     [ 55 112 167 222 277 332 387 442 497 552]]\n",
    "     \n",
    "\n",
    "    > get_submatrix_sum_using_integral(M, Mi, 1,2,4,6)\n",
    "    > 84\n",
    "    > np.sum(M[1:5,2:8])\n",
    "    > 84\n",
    "    > get_submatrix_sum_using_integral(M, Mi, 0,4,1,3)\n",
    "    > 3\n",
    "    > np.sum(M[0:1,4:7])\n",
    "    > 3\n",
    "    > get_submatrix_sum_using_integral(M, Mi, 1,6,4,3)\n",
    "    > 42\n",
    "    > np.sum(M[1:5,6:9])\n",
    "    > 42\n",
    "    > get_submatrix_sum_using_integral(M, Mi, 0,0,3,1)\n",
    "    > 6\n",
    "    > np.sum(M[0:3,0:1])\n",
    "    > 6\n",
    "\n",
    "    > extract_haar(haar_1, M, Mi)\n",
    "    > -248\n",
    "    > extract_haar(haar_1, M, Mi, submatrix_sum_function=get_submatrix_sum_using_integral)\n",
    "    > -248"
   ]
  },
  {
   "cell_type": "code",
   "execution_count": null,
   "metadata": {
    "collapsed": true
   },
   "outputs": [],
   "source": [
    "import sys\n",
    "import numpy as np\n",
    "sys.path.append(\"code\")\n",
    "%matplotlib inline\n",
    "from haar import *\n",
    "\n",
    "def get_submatrix_sum_using_integral(image, integral, topleft_row, topleft_col, height, width):\n",
    "\n",
    "    # TU CODIGO AQUI\n",
    "    result = None\n",
    "    return result"
   ]
  },
  {
   "cell_type": "markdown",
   "metadata": {},
   "source": [
    "Comprueba tu código"
   ]
  },
  {
   "cell_type": "code",
   "execution_count": null,
   "metadata": {
    "collapsed": false
   },
   "outputs": [],
   "source": [
    "M = create_sample_matrix(10)\n",
    "Mi = get_integral(M)\n",
    "print M\n",
    "print Mi\n",
    "\n",
    "print get_submatrix_sum_using_integral(None, Mi, 1,2,4,6)\n",
    "print np.sum(M[1:5,2:8])\n",
    "print get_submatrix_sum_using_integral(None, Mi, 0,4,1,3)\n",
    "print np.sum(M[0:1,4:7])\n",
    "print get_submatrix_sum_using_integral(None, Mi, 1,6,4,3)\n",
    "print np.sum(M[1:5,6:9])\n",
    "print get_submatrix_sum_using_integral(None, Mi, 0,0,3,1)\n",
    "print np.sum(M[0:3,0:1])\n",
    "\n",
    "print extract_haar(haar_1, M, None)\n",
    "print extract_haar(haar_1, None, Mi, submatrix_sum_function=get_submatrix_sum_using_integral)\n"
   ]
  },
  {
   "cell_type": "markdown",
   "metadata": {},
   "source": [
    "<font style=\"color: red\">comprueba tu progreso hasta ahora</font>"
   ]
  },
  {
   "cell_type": "code",
   "execution_count": null,
   "metadata": {
    "collapsed": false
   },
   "outputs": [],
   "source": [
    "%run -i code/p_02B_eval"
   ]
  },
  {
   "cell_type": "markdown",
   "metadata": {},
   "source": [
    "Mide y compara la eficiencia de tu código"
   ]
  },
  {
   "cell_type": "code",
   "execution_count": null,
   "metadata": {
    "collapsed": false
   },
   "outputs": [],
   "source": [
    "M = create_sample_matrix(300)\n",
    "Mi = get_integral(M)\n",
    "%timeit extract_haar(haar_1, M, Mi)\n",
    "%timeit extract_haar(haar_1, M, Mi, submatrix_sum_function=get_submatrix_sum_using_integral)"
   ]
  },
  {
   "cell_type": "markdown",
   "metadata": {},
   "source": [
    "### Ejercicio 3:  Construye dataset MNIST con características Haar\n",
    "\n",
    "observa como se carga el dataset MNIST y se obtienen las características Haar de la primera imagen con diferentes niveles de escalado y desplazamiento, según el parámetro `N` con la función `get_haar_features`. Previamente calculamos la imagen integral con `get_integral`"
   ]
  },
  {
   "cell_type": "code",
   "execution_count": null,
   "metadata": {
    "collapsed": false
   },
   "outputs": [],
   "source": [
    "import numpy as np\n",
    "mnist = np.loadtxt(\"data/mnist1.5k.csv\", delimiter=\",\")\n",
    "d=mnist[:,1:785]\n",
    "c=mnist[:,0]\n",
    "print \"dimension de las imagenes y las clases\", d.shape, c.shape"
   ]
  },
  {
   "cell_type": "code",
   "execution_count": null,
   "metadata": {
    "collapsed": false
   },
   "outputs": [],
   "source": [
    "import sys\n",
    "import numpy as np\n",
    "sys.path.append(\"code\")\n",
    "%matplotlib inline\n",
    "from haar import *\n",
    "\n",
    "haar_1 = [ {\"op\": \"add\", \"topleft_row_rel\": 0.0, \"topleft_col_rel\": 0.0, \"height_rel\": 0.5, \"width_rel\": 1.0},\n",
    "           {\"op\": \"sub\", \"topleft_row_rel\": 0.5, \"topleft_col_rel\": 0.0, \"height_rel\": 0.5, \"width_rel\": 1.0}]\n",
    "\n",
    "haar_2 = [ {\"op\": \"add\", \"topleft_row_rel\": 0.0, \"topleft_col_rel\": 0.0, \"height_rel\": 1.0, \"width_rel\": 0.5},\n",
    "           {\"op\": \"sub\", \"topleft_row_rel\": 0.0, \"topleft_col_rel\": 0.5, \"height_rel\": 1.0, \"width_rel\": 0.5}]\n",
    "\n",
    "haar_features = [ haar_1, haar_2 ]\n",
    "\n",
    "N=6\n",
    "haar_features = [ haar_1, haar_2]\n",
    "M  = d[0].reshape(28,28)\n",
    "Mi = get_integral(M)\n",
    "hf = get_haar_features(haar_features, M, Mi, nb_scales=N, nb_shifts=N)\n",
    "print \"number of features\", len(hf)\n",
    "print hf"
   ]
  },
  {
   "cell_type": "markdown",
   "metadata": {},
   "source": [
    "Completa la función `make_haar_dataset` para que dados los datos de MNIST (la variable `d`) devuelva una matriz en la que cada fila contenga las características `haar` del dígito MNIST de fila correspondiente en la matriz original.\n",
    "\n",
    "**Ejecución de ejemplo**\n",
    "\n",
    "    > haar_features = [ haar_1, haar_2 ]\n",
    "    > d_haar = make_haar_dataset_for_MNIST(haar_features, d, 6)\n",
    "    > print \"haar dataset size\", d_haar.shape\n",
    "    > print \"checksum\", np.sum(d_haar)\n",
    "\n",
    "    number of haar features 200\n",
    "     0% completed\n",
    "     5% completed\n",
    "    10% completed\n",
    "    ...\n",
    "    90% completed\n",
    "    95% completed\n",
    "    haar dataset size (1500, 200)\n",
    "    checksum -473660366.0\n"
   ]
  },
  {
   "cell_type": "code",
   "execution_count": null,
   "metadata": {
    "collapsed": false
   },
   "outputs": [],
   "source": [
    "haar_features = [ haar_1, haar_2 ]\n",
    "\n",
    "def make_haar_dataset_for_MNIST(haar_features, d, N):\n",
    "\n",
    "    M  = d[0].reshape(28,28)\n",
    "    Mi = get_integral(M)\n",
    "    num_feats = len(get_haar_features(haar_features, M, Mi, nb_scales=N, nb_shifts=N))\n",
    "    print \"number of haar features\", num_feats\n",
    "    d_haar = np.zeros((d.shape[0], num_feats))\n",
    "    for i in range(d.shape[0]):\n",
    "        if i%(d.shape[0]/20)==0:\n",
    "            print \"{0:2.0f}% completed\".format(i*1./d.shape[0] * 100)\n",
    "            \n",
    "        M  = d[i].reshape(28,28)\n",
    "\n",
    "        # --- TU CODIGO AQUI ---\n",
    "        # rellena la matriz d_haar\n",
    "        \n",
    "        # ----------------------\n",
    "        \n",
    "    return d_haar"
   ]
  },
  {
   "cell_type": "markdown",
   "metadata": {},
   "source": [
    "Comprueba tu código **LA VARIABLE `d_haar` HA DE CONTENER EL DATASET OBTENIDO CON N=6, NO LE CAMBIES EL NOMBRE**"
   ]
  },
  {
   "cell_type": "code",
   "execution_count": null,
   "metadata": {
    "collapsed": false
   },
   "outputs": [],
   "source": [
    "haar_features = [ haar_1, haar_2 ]\n",
    "d_haar = make_haar_dataset_for_MNIST(haar_features, d, 6)\n",
    "print \"haar dataset size\", d_haar.shape\n",
    "print \"checksum\", np.sum(d_haar)"
   ]
  },
  {
   "cell_type": "markdown",
   "metadata": {},
   "source": [
    "<font style=\"color: red\">comprueba tu progreso hasta ahora</font>"
   ]
  },
  {
   "cell_type": "code",
   "execution_count": null,
   "metadata": {
    "collapsed": false
   },
   "outputs": [],
   "source": [
    "%run -i code/p_02B_eval"
   ]
  },
  {
   "cell_type": "markdown",
   "metadata": {},
   "source": [
    "Observa cómo se comporta el clasificador usando las características Haar"
   ]
  },
  {
   "cell_type": "code",
   "execution_count": null,
   "metadata": {
    "collapsed": false
   },
   "outputs": [],
   "source": [
    "from sklearn.naive_bayes import GaussianNB\n",
    "from sklearn import cross_validation\n",
    "from sklearn.metrics import confusion_matrix\n",
    "\n",
    "\n",
    "test_size = 0.2\n",
    "\n",
    "d_train, d_test, c_train, c_test = cross_validation.train_test_split(d_haar, \n",
    "                                                                     c, \n",
    "                                                                     test_size=test_size, \n",
    "                                                                     random_state=np.random.randint(1,100))\n",
    "\n",
    "print \"dimensiones train\", d_train.shape, c_train.shape\n",
    "print \"dimsensions test \", d_test.shape, c_test.shape\n",
    "\n",
    "g = GaussianNB()\n",
    "g.fit(d_train, c_train)\n",
    "print \"acierto en train\", g.score(d_train, c_train)\n",
    "print \"acierto en test \", g.score(d_test, c_test)\n",
    "print confusion_matrix (c_test, g.predict(d_test))"
   ]
  },
  {
   "cell_type": "markdown",
   "metadata": {},
   "source": [
    "lo comparamos con validación cruzada con la clasificación basada únicamente en pixeles"
   ]
  },
  {
   "cell_type": "code",
   "execution_count": null,
   "metadata": {
    "collapsed": false
   },
   "outputs": [],
   "source": [
    "from sklearn.cross_validation import cross_val_score, StratifiedKFold\n",
    "\n",
    "g = GaussianNB()\n",
    "skf = cross_validation.StratifiedKFold(c, n_folds=5, shuffle=True, random_state=np.random.randint(1,100))\n",
    "sc = cross_val_score(g, d, c, cv=skf)\n",
    "print \"with pixels\"\n",
    "print \"  \", np.mean(sc), np.std(sc)\n",
    "sc = cross_val_score(g, d_haar, c, cv=skf)\n",
    "print \"with haar\"\n",
    "print \"  \", np.mean(sc), np.std(sc)"
   ]
  },
  {
   "cell_type": "code",
   "execution_count": null,
   "metadata": {
    "collapsed": true
   },
   "outputs": [],
   "source": []
  }
 ],
 "metadata": {
  "kernelspec": {
   "display_name": "Python 2",
   "language": "python",
   "name": "python2"
  },
  "language_info": {
   "codemirror_mode": {
    "name": "ipython",
    "version": 2
   },
   "file_extension": ".py",
   "mimetype": "text/x-python",
   "name": "python",
   "nbconvert_exporter": "python",
   "pygments_lexer": "ipython2",
   "version": "2.7.9"
  }
 },
 "nbformat": 4,
 "nbformat_minor": 0
}
