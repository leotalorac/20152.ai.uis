{
 "cells": [
  {
   "cell_type": "code",
   "execution_count": 2,
   "metadata": {
    "collapsed": true
   },
   "outputs": [],
   "source": [
    "import numpy as np\n",
    "import matplotlib.pyplot as plt\n",
    "%matplotlib inline"
   ]
  },
  {
   "cell_type": "markdown",
   "metadata": {},
   "source": [
    "## Representación de Imágenes"
   ]
  },
  {
   "cell_type": "code",
   "execution_count": 3,
   "metadata": {
    "collapsed": false
   },
   "outputs": [
    {
     "name": "stdout",
     "output_type": "stream",
     "text": [
      "dimension de las imagenes y las clases (1500, 784) (1500,)\n"
     ]
    }
   ],
   "source": [
    "mnist = np.loadtxt(\"data/mnist1.5k.csv\", delimiter=\",\")\n",
    "d=mnist[:,1:785]\n",
    "c=mnist[:,0]\n",
    "print \"dimension de las imagenes y las clases\", d.shape, c.shape"
   ]
  },
  {
   "cell_type": "markdown",
   "metadata": {},
   "source": [
    "Representamos una imagen por el histograma de grises. Es decir, por un vector de 255 valores conteniendo cuantos píxeles contiene la imagen de cada intensidad."
   ]
  },
  {
   "cell_type": "code",
   "execution_count": 5,
   "metadata": {
    "collapsed": false
   },
   "outputs": [
    {
     "name": "stdout",
     "output_type": "stream",
     "text": [
      "[571   4   1   2   3   1   3   2   0   0   1   1   0   1   0   2   0   2\n",
      "   2   1   0   0   1   1   0   0   2   0   0   2   1   0   0   0   1   0\n",
      "   1   0   0   1   0   0   0   1   3   0   0   0   1   0   0   1   0   0\n",
      "   0   0   0   0   0   0   0   0   0   0   1   0   0   0   2   0   0   1\n",
      "   0   0   1   0   0   1   0   0   0   0   0   1   0   1   0   1   1   0\n",
      "   1   0   0   0   0   0   0   0   1   0   1   1   0   0   0   1   3   1\n",
      "   0   0   0   0   0   0   0   0   0   0   0   0   0   0   0   1   0   0\n",
      "   0   0   0   3   1   0   0   0   0   4   0   1   1   0   0   1   0   0\n",
      "   1   1   1   0   2   0   0   1   0   1   1   1   1   0   0   0   0   1\n",
      "   0   0   1   0   0   1   0   0   0   0   1   0   1   2   0   0   0   0\n",
      "   0   0   0   2   0   0   0   0   0   0   0   3   0   1   0   0   0   0\n",
      "   0   0   0   1   0   1   2   0   0   1   0   0   0   1   0   1   0   1\n",
      "   0   0   0   0   1   1   0   2   0   0   0   0   0   1   1   0   0   1\n",
      "   0   4   3   1   1   0   2   1   1   1   0   0   0   0   1   0   0   2\n",
      "   0  83   2]\n",
      "[   0.    0.    0.    0.    0.    0.    0.    0.    0.    0.    0.    0.\n",
      "    0.    0.    0.    0.    0.    0.    0.    0.    0.    0.    0.    0.\n",
      "    0.    0.    0.    0.    0.    0.    0.    0.    0.    0.    0.    0.\n",
      "    0.    0.    0.    0.    0.    0.    0.    0.    0.    0.    0.    0.\n",
      "    0.    0.    0.    0.    0.    0.    0.    0.    0.    0.    0.    0.\n",
      "    0.    0.    0.    0.    0.    0.    0.    0.    0.    0.    0.    0.\n",
      "    0.    0.    0.    0.    0.    0.    0.    0.    0.    0.    0.    0.\n",
      "    0.    0.    0.    0.    0.    0.    0.    0.    0.    0.    0.    0.\n",
      "    0.    0.    0.    0.    0.    0.    0.    0.    0.    0.    0.    0.\n",
      "    0.    0.    0.    0.    0.    0.    0.    0.    0.    0.    0.    1.\n",
      "   22.  148.  172.  215.  254.  254.  221.  130.   30.    2.    0.    0.\n",
      "    0.    0.    0.    0.    0.    0.    0.    0.    0.    0.    0.    0.\n",
      "    0.    1.   83.  148.  253.  253.  253.  253.  253.  253.  253.  253.\n",
      "  253.  156.   26.    0.    0.    0.    0.    0.    0.    0.    0.    0.\n",
      "    0.    0.    0.    0.    0.   13.  253.  253.  253.  251.  235.  235.\n",
      "  235.  235.  240.  253.  253.  253.  213.   17.    0.    0.    0.    0.\n",
      "    0.    0.    0.    0.    0.    0.    0.    0.    0.    6.  174.  155.\n",
      "  105.   90.    0.    0.    0.    0.   29.  141.  248.  253.  253.   43.\n",
      "    0.    0.    0.    0.    0.    0.    0.    0.    0.    0.    0.    0.\n",
      "    0.    0.    0.    0.    0.    0.    0.    0.    0.    0.    0.   10.\n",
      "  211.  253.  253.  154.    0.    0.    0.    0.    0.    0.    0.    0.\n",
      "    0.    0.    0.    0.    0.    0.    0.    0.    0.    0.    0.    0.\n",
      "    0.    0.   29.  161.  253.  253.  253.  135.    0.    0.    0.    0.\n",
      "    0.    0.    0.    0.    0.    0.    0.    0.    0.    0.    0.    0.\n",
      "    6.   44.   44.   44.   71.  167.  233.  253.  253.  238.  164.   11.\n",
      "    0.    0.    0.    0.    0.    0.    0.    0.    0.    0.    0.    0.\n",
      "    0.    0.    4.  123.  183.  253.  253.  253.  253.  253.  253.  253.\n",
      "  237.   74.    0.    0.    0.    0.    0.    0.    0.    0.    0.    0.\n",
      "    0.    0.    0.    0.    0.    0.   15.  203.  253.  253.  253.  253.\n",
      "  253.  253.  253.  253.  230.   77.   36.    0.    0.    0.    0.    0.\n",
      "    0.    0.    0.    0.    0.    0.    0.    0.    0.    0.    0.   19.\n",
      "  191.  191.  191.  107.   68.   68.  101.  240.  253.  253.  229.  137.\n",
      "    6.    0.    0.    0.    0.    0.    0.    0.    0.    0.    0.    0.\n",
      "    0.    0.    0.    0.    0.    0.    0.    0.    0.    0.    0.   48.\n",
      "  183.  253.  253.  253.  146.    5.    0.    0.    0.    0.    0.    0.\n",
      "    0.    0.    0.    0.    0.    0.    0.    0.    0.    0.    0.    0.\n",
      "    0.    0.    0.    0.   18.   98.  243.  253.  253.   87.    4.    0.\n",
      "    0.    0.    0.    0.    0.    0.    0.    0.    0.    0.    0.    0.\n",
      "    0.    0.    0.    0.    0.    0.    0.    0.    0.    0.   88.  204.\n",
      "  253.  253.   51.    0.    0.    0.    0.    0.    0.    0.    0.    0.\n",
      "    0.    0.    0.    0.    0.    0.    0.    0.    0.    0.    0.    0.\n",
      "    0.    0.    0.  100.  253.  253.  135.    0.    0.    0.    0.    0.\n",
      "    0.    0.    0.    0.    0.    0.    0.    0.    0.    0.    0.    0.\n",
      "    0.    0.    0.    0.    0.    0.    0.  145.  253.  253.  193.    3.\n",
      "    0.    0.    0.    0.    0.    0.    0.    0.    3.  106.  223.  201.\n",
      "    0.    0.    0.    0.    0.    0.    0.    0.    0.    0.    0.  223.\n",
      "  253.  253.   26.    0.    0.    0.    0.    0.    0.    0.    0.    0.\n",
      "    7.  253.  253.  251.  153.  106.  106.   34.    0.    0.    0.    0.\n",
      "    0.    0.   39.  236.  253.  253.   64.    0.    0.    0.    0.    0.\n",
      "    0.    0.    0.    0.    7.  253.  253.  253.  253.  253.  253.  241.\n",
      "  236.  175.  236.  138.  151.  175.  242.  253.  253.  204.   15.    0.\n",
      "    0.    0.    0.    0.    0.    0.    0.    0.    1.   18.  135.  135.\n",
      "  207.  253.  253.  253.  253.  253.  253.  253.  253.  253.  253.  253.\n",
      "  253.   23.    0.    0.    0.    0.    0.    0.    0.    0.    0.    0.\n",
      "    0.    0.    0.    0.    4.   85.  129.  129.  129.  220.  253.  253.\n",
      "  253.  253.  253.  144.   17.    1.    0.    0.    0.    0.    0.    0.\n",
      "    0.    0.    0.    0.    0.    0.    0.    0.    0.    0.    0.    0.\n",
      "    0.    0.    0.    0.    0.    0.    0.    0.    0.    0.    0.    0.\n",
      "    0.    0.    0.    0.    0.    0.    0.    0.    0.    0.    0.    0.\n",
      "    0.    0.    0.    0.    0.    0.    0.    0.    0.    0.    0.    0.\n",
      "    0.    0.    0.    0.    0.    0.    0.    0.    0.    0.    0.    0.\n",
      "    0.    0.    0.    0.    0.    0.    0.    0.    0.    0.    0.    0.\n",
      "    0.    0.    0.    0.    0.    0.    0.    0.    0.    0.    0.    0.\n",
      "    0.    0.    0.    0.    0.    0.    0.    0.    0.    0.    0.    0.\n",
      "    0.    0.    0.    0.    0.    0.    0.    0.    0.    0.    0.    0.\n",
      "    0.    0.    0.    0.]\n"
     ]
    },
    {
     "data": {
      "image/png": "[encoded data removed]",
      "text/plain": [
       "<matplotlib.figure.Figure at 0x104ebca10>"
      ]
     },
     "metadata": {},
     "output_type": "display_data"
    },
    {
     "data": {
      "image/png": "[encoded data removed]",
      "text/plain": [
       "<matplotlib.figure.Figure at 0x109095dd0>"
      ]
     },
     "metadata": {},
     "output_type": "display_data"
    }
   ],
   "source": [
    "random_idx = np.random.randint(d.shape[0])\n",
    "print np.histogram(d[random_idx], bins=255)[0]\n",
    "print d[random_idx]\n",
    "plt.imshow(d[random_idx].reshape(28,28),interpolation=\"nearest\", cmap = plt.cm.Greys_r)\n",
    "plt.figure()\n",
    "plt.hist(d[random_idx], bins=255);"
   ]
  },
  {
   "cell_type": "markdown",
   "metadata": {},
   "source": [
    "Convertimos cada imagen a un histograma de grises"
   ]
  },
  {
   "cell_type": "code",
   "execution_count": 5,
   "metadata": {
    "collapsed": false
   },
   "outputs": [
    {
     "name": "stdout",
     "output_type": "stream",
     "text": [
      "(1500, 255)\n"
     ]
    }
   ],
   "source": [
    "d_hist = np.zeros((d.shape[0], 255))\n",
    "for i in range(d.shape[0]):\n",
    "    d_hist[i] = np.histogram(d[i], bins=255)[0]\n",
    "print d_hist.shape"
   ]
  },
  {
   "cell_type": "markdown",
   "metadata": {},
   "source": [
    "Hacemos una descomposición en cien valores singulares. Se calcula cuales son las 100 métricas de cada imagen que son estadísticamente más significativas."
   ]
  },
  {
   "cell_type": "code",
   "execution_count": 6,
   "metadata": {
    "collapsed": false
   },
   "outputs": [
    {
     "name": "stdout",
     "output_type": "stream",
     "text": [
      "(1500, 100)\n"
     ]
    }
   ],
   "source": [
    "import scipy.linalg as la\n",
    "\n",
    "(U,s,V)=la.svd(d)\n",
    "d_svd = U[:,0:100]\n",
    "print d_svd.shape"
   ]
  },
  {
   "cell_type": "markdown",
   "metadata": {},
   "source": [
    "Clasificamos con los pixeles originales"
   ]
  },
  {
   "cell_type": "code",
   "execution_count": 7,
   "metadata": {
    "collapsed": false
   },
   "outputs": [
    {
     "name": "stdout",
     "output_type": "stream",
     "text": [
      "acierto en train 0.628333333333\n",
      "acierto en test  0.563333333333\n"
     ]
    }
   ],
   "source": [
    "from sklearn.naive_bayes import GaussianNB\n",
    "from sklearn import cross_validation\n",
    "\n",
    "test_size = 0.2\n",
    "\n",
    "d_train, d_test, c_train, c_test = cross_validation.train_test_split(d, \n",
    "                                                                     c, \n",
    "                                                                     test_size=test_size, \n",
    "                                                                     random_state=np.random.randint(1,100))\n",
    "g = GaussianNB()\n",
    "g.fit(d_train, c_train)\n",
    "print \"acierto en train\", g.score(d_train, c_train)\n",
    "print \"acierto en test \", g.score(d_test, c_test)"
   ]
  },
  {
   "cell_type": "markdown",
   "metadata": {},
   "source": [
    "Clasificamos con el histograma. Funciona mucho peor, parece que perdemos demasiada información al representar las imágenes de esta manera."
   ]
  },
  {
   "cell_type": "code",
   "execution_count": 8,
   "metadata": {
    "collapsed": false
   },
   "outputs": [
    {
     "name": "stdout",
     "output_type": "stream",
     "text": [
      "acierto en train 0.54\n",
      "acierto en test  0.186666666667\n"
     ]
    }
   ],
   "source": [
    "d_train, d_test, c_train, c_test = cross_validation.train_test_split(d_hist, \n",
    "                                                                     c, \n",
    "                                                                     test_size=test_size, \n",
    "                                                                     random_state=np.random.randint(1,100))\n",
    "g = GaussianNB()\n",
    "g.fit(d_train, c_train)\n",
    "print \"acierto en train\", g.score(d_train, c_train)\n",
    "print \"acierto en test \", g.score(d_test, c_test)"
   ]
  },
  {
   "cell_type": "markdown",
   "metadata": {},
   "source": [
    "Clasificamos con la descomposición en valores singulares. Funciona mucho mejor, esta representación parece que preserva y resalta información importante de las imágenes. "
   ]
  },
  {
   "cell_type": "code",
   "execution_count": 9,
   "metadata": {
    "collapsed": false
   },
   "outputs": [
    {
     "name": "stdout",
     "output_type": "stream",
     "text": [
      "acierto en train 0.9\n",
      "acierto en test  0.83\n"
     ]
    }
   ],
   "source": [
    "test_size = 0.2\n",
    "\n",
    "d_train, d_test, c_train, c_test = cross_validation.train_test_split(d_svd, \n",
    "                                                                     c, \n",
    "                                                                     test_size=test_size, \n",
    "                                                                     random_state=np.random.randint(1,100))\n",
    "g = GaussianNB()\n",
    "g.fit(d_train, c_train)\n",
    "print \"acierto en train\", g.score(d_train, c_train)\n",
    "print \"acierto en test \", g.score(d_test, c_test)"
   ]
  },
  {
   "cell_type": "code",
   "execution_count": null,
   "metadata": {
    "collapsed": true
   },
   "outputs": [],
   "source": [
    "t"
   ]
  }
 ],
 "metadata": {
  "kernelspec": {
   "display_name": "Python 2",
   "language": "python",
   "name": "python2"
  },
  "language_info": {
   "codemirror_mode": {
    "name": "ipython",
    "version": 2
   },
   "file_extension": ".py",
   "mimetype": "text/x-python",
   "name": "python",
   "nbconvert_exporter": "python",
   "pygments_lexer": "ipython2",
   "version": "2.7.10"
  }
 },
 "nbformat": 4,
 "nbformat_minor": 0
}
